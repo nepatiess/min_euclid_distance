{
  "nbformat": 4,
  "nbformat_minor": 0,
  "metadata": {
    "colab": {
      "provenance": [],
      "authorship_tag": "ABX9TyMjosJgdGXnzJyS3sH87sBh",
      "include_colab_link": true
    },
    "kernelspec": {
      "name": "python3",
      "display_name": "Python 3"
    },
    "language_info": {
      "name": "python"
    }
  },
  "cells": [
    {
      "cell_type": "markdown",
      "metadata": {
        "id": "view-in-github",
        "colab_type": "text"
      },
      "source": [
        "<a href=\"https://colab.research.google.com/github/nepatiess/min_euclid_distance/blob/main/min_euclid_distance.ipynb\" target=\"_parent\"><img src=\"https://colab.research.google.com/assets/colab-badge.svg\" alt=\"Open In Colab\"/></a>"
      ]
    },
    {
      "cell_type": "code",
      "execution_count": 4,
      "metadata": {
        "id": "1YIIBr53Vdmv",
        "colab": {
          "base_uri": "https://localhost:8080/"
        },
        "outputId": "73796ce0-0b0a-41ec-8289-565cdf0f0e75"
      },
      "outputs": [
        {
          "output_type": "stream",
          "name": "stdout",
          "text": [
            "Points: [(1, 2), (4, 6), (5, 8), (7, 1)]\n",
            "Distances: [5.0, 7.211102550927978, 6.082762530298219, 2.23606797749979, 5.830951894845301, 7.280109889280518]\n",
            "Minimum Euclidean Distance: 2.23606797749979\n"
          ]
        }
      ],
      "source": [
        "import math\n",
        "\n",
        "# Noktaların Tanımlanması\n",
        "points = [(1, 2), (4, 6), (5, 8), (7, 1)]\n",
        "\n",
        "# Öklid Mesafesi İçin Bir Fonksiyon Yazma\n",
        "def euclideanDistance(point1, point2):\n",
        "    return math.sqrt((point2[0] - point1[0]) ** 2 + (point2[1] - point1[1]) ** 2)\n",
        "\n",
        "# Mesafelerin Hesaplanması\n",
        "distances = []\n",
        "for i in range(len(points)):\n",
        "    for j in range(i + 1, len(points)):\n",
        "        distance = euclideanDistance(points[i], points[j])\n",
        "        distances.append(distance)\n",
        "\n",
        "# Minimum Mesafenin Bulunması\n",
        "min_distance = min(distances)\n",
        "\n",
        "# Sonucun Yazdırılması\n",
        "print(\"Points:\", points)\n",
        "print(\"Distances:\", distances)\n",
        "print(\"Minimum Euclidean Distance:\", min_distance)\n"
      ]
    }
  ]
}