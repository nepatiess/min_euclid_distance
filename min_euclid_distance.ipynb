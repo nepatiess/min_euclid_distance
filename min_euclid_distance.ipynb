{
  "nbformat": 4,
  "nbformat_minor": 0,
  "metadata": {
    "colab": {
      "provenance": [],
      "authorship_tag": "ABX9TyOVgjJULakAaaMnsipE15KQ",
      "include_colab_link": true
    },
    "kernelspec": {
      "name": "python3",
      "display_name": "Python 3"
    },
    "language_info": {
      "name": "python"
    }
  },
  "cells": [
    {
      "cell_type": "markdown",
      "metadata": {
        "id": "view-in-github",
        "colab_type": "text"
      },
      "source": [
        "<a href=\"https://colab.research.google.com/github/nepatiess/min_euclid_distance/blob/main/min_euclid_distance.ipynb\" target=\"_parent\"><img src=\"https://colab.research.google.com/assets/colab-badge.svg\" alt=\"Open In Colab\"/></a>"
      ]
    },
    {
      "cell_type": "markdown",
      "source": [
        "Kütüphane"
      ],
      "metadata": {
        "id": "CW_M-QXjol9n"
      }
    },
    {
      "cell_type": "code",
      "execution_count": null,
      "metadata": {
        "id": "1YIIBr53Vdmv"
      },
      "outputs": [],
      "source": [
        "import math"
      ]
    },
    {
      "cell_type": "markdown",
      "source": [
        "Noktaların tanımlanması"
      ],
      "metadata": {
        "id": "ai3Jn7B2olCB"
      }
    },
    {
      "cell_type": "code",
      "source": [
        "points = [(1,2),(4,6),(5,9),(8,3)]"
      ],
      "metadata": {
        "id": "omWeDXBGorZK"
      },
      "execution_count": null,
      "outputs": []
    },
    {
      "cell_type": "markdown",
      "source": [
        "Öklid mesafesi için fonksiyon"
      ],
      "metadata": {
        "id": "ajrij17Jo126"
      }
    },
    {
      "cell_type": "code",
      "source": [
        "def euclidDistance (point1,point2):\n",
        "  x1,y1 = point1\n",
        "  x2,y2 = point2\n",
        "  return math.sqrt((x2-x1)**2 + (y2-y1)**2)"
      ],
      "metadata": {
        "id": "t-mkZQBoo5bf"
      },
      "execution_count": null,
      "outputs": []
    },
    {
      "cell_type": "markdown",
      "source": [
        "Mesaflerin hesaplanması"
      ],
      "metadata": {
        "id": "NIk3RGbCpWVb"
      }
    },
    {
      "cell_type": "code",
      "source": [
        "distances = []\n",
        "for i in range(len(points)):\n",
        "    for j in range(i + 1, len(points)):\n",
        "        distance = euclidDistance(points[i], points[j])\n",
        "        distances.append(distance)"
      ],
      "metadata": {
        "id": "6ejR-0n1pZIz"
      },
      "execution_count": null,
      "outputs": []
    },
    {
      "cell_type": "markdown",
      "source": [
        "Minimum mesafenin bulunması"
      ],
      "metadata": {
        "id": "UWdbSwdBpg9O"
      }
    },
    {
      "cell_type": "code",
      "source": [
        "min_distance = min(distances)"
      ],
      "metadata": {
        "id": "Hu40YFmYpkNL"
      },
      "execution_count": null,
      "outputs": []
    },
    {
      "cell_type": "code",
      "source": [
        "print(\"Mesafeler:\", distances)\n",
        "print(\"Minimum Mesafe:\", min_distance)"
      ],
      "metadata": {
        "colab": {
          "base_uri": "https://localhost:8080/"
        },
        "id": "Smb9m39lpmLQ",
        "outputId": "458ce013-9272-4121-f343-0cd61ada2dc7"
      },
      "execution_count": null,
      "outputs": [
        {
          "output_type": "stream",
          "name": "stdout",
          "text": [
            "Mesafeler: [5.0, 8.06225774829855, 7.0710678118654755, 3.1622776601683795, 5.0, 6.708203932499369]\n",
            "Minimum Mesafe: 3.1622776601683795\n"
          ]
        }
      ]
    }
  ]
}